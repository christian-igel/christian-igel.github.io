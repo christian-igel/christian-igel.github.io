{
 "cells": [
  {
   "cell_type": "markdown",
   "metadata": {},
   "source": [
    "# Loading Traffic Sign Recognition Benchmark Data in TensorFlow 2.x\n",
    "### Christian Igel, March 2020\n",
    "\n",
    "Download the German Traffic Sign Recognition Benchmark Data (GTSRB) from the official archive with TensorFlow 2.x:"
   ]
  },
  {
   "cell_type": "code",
   "execution_count": 1,
   "metadata": {},
   "outputs": [],
   "source": [
    "import tensorflow as tf\n",
    "import os\n",
    "\n",
    "cache_dir = os.path.expanduser(\"~/.keras\")\n",
    "tf.keras.utils.get_file(\"GTSRB_Final_Training_Images.zip\",\n",
    "                        \"https://sid.erda.dk/public/archives/daaeac0d7ce1152aea9b61d9f1e19370/GTSRB_Final_Training_Images.zip\",\n",
    "                        cache_dir=cache_dir,\n",
    "                        extract=True)\n",
    "tf.keras.utils.get_file(\"GTSRB_Online-Test-Images-Sorted.zip\",\n",
    "                        \"https://sid.erda.dk/public/archives/daaeac0d7ce1152aea9b61d9f1e19370/GTSRB_Online-Test-Images-Sorted.zip\",\n",
    "                        cache_dir=cache_dir,\n",
    "                        extract=True)\n",
    "misleading_dir = cache_dir + \"/datasets/GTSRB/Online-Test-sort/Images\"\n",
    "if os.path.isdir(misleading_dir):\n",
    "    os.rmdir(misleading_dir)\n",
    "    \n",
    "data_root_train = cache_dir + \"/datasets/GTSRB/Final_Training/Images/\"\n",
    "data_root_test  = cache_dir + \"/datasets/GTSRB/Online-Test-sort/\""
   ]
  },
  {
   "cell_type": "markdown",
   "metadata": {},
   "source": [
    "Now you can generate batches of tensor image data. For example:"
   ]
  },
  {
   "cell_type": "code",
   "execution_count": 2,
   "metadata": {},
   "outputs": [
    {
     "name": "stdout",
     "output_type": "stream",
     "text": [
      "Found 39209 images belonging to 43 classes.\n",
      "Found 12569 images belonging to 43 classes.\n"
     ]
    }
   ],
   "source": [
    "batch_size = 32\n",
    "img_side_length = 32\n",
    "target_size = (img_side_length, img_side_length)\n",
    "\n",
    "img_gen = tf.keras.preprocessing.image.ImageDataGenerator(rescale=1./255)\n",
    "train_data_gen = img_gen.flow_from_directory(data_root_train, target_size, \"rgb\", None, 'categorical', batch_size)\n",
    "test_data_gen = img_gen.flow_from_directory(data_root_test, target_size, \"rgb\", None, 'categorical', batch_size)"
   ]
  }
 ],
 "metadata": {
  "kernelspec": {
   "display_name": "Python 3",
   "language": "python",
   "name": "python3"
  },
  "language_info": {
   "codemirror_mode": {
    "name": "ipython",
    "version": 3
   },
   "file_extension": ".py",
   "mimetype": "text/x-python",
   "name": "python",
   "nbconvert_exporter": "python",
   "pygments_lexer": "ipython3",
   "version": "3.6.10"
  }
 },
 "nbformat": 4,
 "nbformat_minor": 2
}
